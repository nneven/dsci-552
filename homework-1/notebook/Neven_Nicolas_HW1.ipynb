{
 "cells": [
  {
   "cell_type": "code",
   "execution_count": 1,
   "id": "872a481e",
   "metadata": {},
   "outputs": [],
   "source": [
    "import numpy as np\n",
    "import pandas as pd\n",
    "import seaborn as sns\n",
    "from tabulate import tabulate\n",
    "import matplotlib.pyplot as plt\n",
    "from scipy.io import arff\n",
    "from sklearn.metrics import accuracy_score, confusion_matrix\n",
    "from sklearn.preprocessing import LabelEncoder\n",
    "from sklearn.model_selection import train_test_split\n",
    "from sklearn.neighbors import KNeighborsClassifier\n",
    "from sklearn.metrics import confusion_matrix, precision_score, f1_score"
   ]
  },
  {
   "cell_type": "markdown",
   "id": "8428396c",
   "metadata": {},
   "source": [
    "# Question (1)(a)"
   ]
  },
  {
   "cell_type": "code",
   "execution_count": 2,
   "id": "a1ac55f6",
   "metadata": {},
   "outputs": [
    {
     "data": {
      "text/html": [
       "<div>\n",
       "<style scoped>\n",
       "    .dataframe tbody tr th:only-of-type {\n",
       "        vertical-align: middle;\n",
       "    }\n",
       "\n",
       "    .dataframe tbody tr th {\n",
       "        vertical-align: top;\n",
       "    }\n",
       "\n",
       "    .dataframe thead th {\n",
       "        text-align: right;\n",
       "    }\n",
       "</style>\n",
       "<table border=\"1\" class=\"dataframe\">\n",
       "  <thead>\n",
       "    <tr style=\"text-align: right;\">\n",
       "      <th></th>\n",
       "      <th>pelvic_incidence</th>\n",
       "      <th>pelvic_tilt</th>\n",
       "      <th>lumbar_lordosis_angle</th>\n",
       "      <th>sacral_slope</th>\n",
       "      <th>pelvic_radius</th>\n",
       "      <th>degree_spondylolisthesis</th>\n",
       "      <th>class</th>\n",
       "    </tr>\n",
       "  </thead>\n",
       "  <tbody>\n",
       "    <tr>\n",
       "      <th>0</th>\n",
       "      <td>63.027817</td>\n",
       "      <td>22.552586</td>\n",
       "      <td>39.609117</td>\n",
       "      <td>40.475232</td>\n",
       "      <td>98.672917</td>\n",
       "      <td>-0.254400</td>\n",
       "      <td>Abnormal</td>\n",
       "    </tr>\n",
       "    <tr>\n",
       "      <th>1</th>\n",
       "      <td>39.056951</td>\n",
       "      <td>10.060991</td>\n",
       "      <td>25.015378</td>\n",
       "      <td>28.995960</td>\n",
       "      <td>114.405425</td>\n",
       "      <td>4.564259</td>\n",
       "      <td>Abnormal</td>\n",
       "    </tr>\n",
       "    <tr>\n",
       "      <th>2</th>\n",
       "      <td>68.832021</td>\n",
       "      <td>22.218482</td>\n",
       "      <td>50.092194</td>\n",
       "      <td>46.613539</td>\n",
       "      <td>105.985135</td>\n",
       "      <td>-3.530317</td>\n",
       "      <td>Abnormal</td>\n",
       "    </tr>\n",
       "    <tr>\n",
       "      <th>3</th>\n",
       "      <td>69.297008</td>\n",
       "      <td>24.652878</td>\n",
       "      <td>44.311238</td>\n",
       "      <td>44.644130</td>\n",
       "      <td>101.868495</td>\n",
       "      <td>11.211523</td>\n",
       "      <td>Abnormal</td>\n",
       "    </tr>\n",
       "    <tr>\n",
       "      <th>4</th>\n",
       "      <td>49.712859</td>\n",
       "      <td>9.652075</td>\n",
       "      <td>28.317406</td>\n",
       "      <td>40.060784</td>\n",
       "      <td>108.168725</td>\n",
       "      <td>7.918501</td>\n",
       "      <td>Abnormal</td>\n",
       "    </tr>\n",
       "  </tbody>\n",
       "</table>\n",
       "</div>"
      ],
      "text/plain": [
       "   pelvic_incidence  pelvic_tilt  lumbar_lordosis_angle  sacral_slope  \\\n",
       "0         63.027817    22.552586              39.609117     40.475232   \n",
       "1         39.056951    10.060991              25.015378     28.995960   \n",
       "2         68.832021    22.218482              50.092194     46.613539   \n",
       "3         69.297008    24.652878              44.311238     44.644130   \n",
       "4         49.712859     9.652075              28.317406     40.060784   \n",
       "\n",
       "   pelvic_radius  degree_spondylolisthesis     class  \n",
       "0      98.672917                 -0.254400  Abnormal  \n",
       "1     114.405425                  4.564259  Abnormal  \n",
       "2     105.985135                 -3.530317  Abnormal  \n",
       "3     101.868495                 11.211523  Abnormal  \n",
       "4     108.168725                  7.918501  Abnormal  "
      ]
     },
     "execution_count": 2,
     "metadata": {},
     "output_type": "execute_result"
    }
   ],
   "source": [
    "# Load arff file as pandas dataset\n",
    "data = arff.loadarff('../data/vertebral_column_data/column_2C_weka.arff')\n",
    "df = pd.DataFrame(data[0])\n",
    "df['class'] = df['class'].str.decode('utf-8')\n",
    "\n",
    "# Delete rows where class != Normal, Abnormal\n",
    "df = df[~(df['class'].isin(['Hernia', 'Spondylolisthesis']))]\n",
    "# print(df['class'].unique())\n",
    "\n",
    "df.head()"
   ]
  },
  {
   "cell_type": "code",
   "execution_count": 3,
   "id": "d426d354",
   "metadata": {},
   "outputs": [
    {
     "name": "stdout",
     "output_type": "stream",
     "text": [
      "<class 'pandas.core.frame.DataFrame'>\n",
      "Int64Index: 310 entries, 0 to 309\n",
      "Data columns (total 7 columns):\n",
      " #   Column                    Non-Null Count  Dtype  \n",
      "---  ------                    --------------  -----  \n",
      " 0   pelvic_incidence          310 non-null    float64\n",
      " 1   pelvic_tilt               310 non-null    float64\n",
      " 2   lumbar_lordosis_angle     310 non-null    float64\n",
      " 3   sacral_slope              310 non-null    float64\n",
      " 4   pelvic_radius             310 non-null    float64\n",
      " 5   degree_spondylolisthesis  310 non-null    float64\n",
      " 6   class                     310 non-null    object \n",
      "dtypes: float64(6), object(1)\n",
      "memory usage: 19.4+ KB\n"
     ]
    },
    {
     "data": {
      "text/html": [
       "<div>\n",
       "<style scoped>\n",
       "    .dataframe tbody tr th:only-of-type {\n",
       "        vertical-align: middle;\n",
       "    }\n",
       "\n",
       "    .dataframe tbody tr th {\n",
       "        vertical-align: top;\n",
       "    }\n",
       "\n",
       "    .dataframe thead th {\n",
       "        text-align: right;\n",
       "    }\n",
       "</style>\n",
       "<table border=\"1\" class=\"dataframe\">\n",
       "  <thead>\n",
       "    <tr style=\"text-align: right;\">\n",
       "      <th></th>\n",
       "      <th>pelvic_incidence</th>\n",
       "      <th>pelvic_tilt</th>\n",
       "      <th>lumbar_lordosis_angle</th>\n",
       "      <th>sacral_slope</th>\n",
       "      <th>pelvic_radius</th>\n",
       "      <th>degree_spondylolisthesis</th>\n",
       "    </tr>\n",
       "  </thead>\n",
       "  <tbody>\n",
       "    <tr>\n",
       "      <th>count</th>\n",
       "      <td>310.000000</td>\n",
       "      <td>310.000000</td>\n",
       "      <td>310.000000</td>\n",
       "      <td>310.000000</td>\n",
       "      <td>310.000000</td>\n",
       "      <td>310.000000</td>\n",
       "    </tr>\n",
       "    <tr>\n",
       "      <th>mean</th>\n",
       "      <td>60.496653</td>\n",
       "      <td>17.542822</td>\n",
       "      <td>51.930930</td>\n",
       "      <td>42.953831</td>\n",
       "      <td>117.920655</td>\n",
       "      <td>26.296694</td>\n",
       "    </tr>\n",
       "    <tr>\n",
       "      <th>std</th>\n",
       "      <td>17.236520</td>\n",
       "      <td>10.008330</td>\n",
       "      <td>18.554064</td>\n",
       "      <td>13.423102</td>\n",
       "      <td>13.317377</td>\n",
       "      <td>37.559027</td>\n",
       "    </tr>\n",
       "    <tr>\n",
       "      <th>min</th>\n",
       "      <td>26.147921</td>\n",
       "      <td>-6.554948</td>\n",
       "      <td>14.000000</td>\n",
       "      <td>13.366931</td>\n",
       "      <td>70.082575</td>\n",
       "      <td>-11.058179</td>\n",
       "    </tr>\n",
       "    <tr>\n",
       "      <th>25%</th>\n",
       "      <td>46.430294</td>\n",
       "      <td>10.667069</td>\n",
       "      <td>37.000000</td>\n",
       "      <td>33.347122</td>\n",
       "      <td>110.709196</td>\n",
       "      <td>1.603727</td>\n",
       "    </tr>\n",
       "    <tr>\n",
       "      <th>50%</th>\n",
       "      <td>58.691038</td>\n",
       "      <td>16.357689</td>\n",
       "      <td>49.562398</td>\n",
       "      <td>42.404912</td>\n",
       "      <td>118.268178</td>\n",
       "      <td>11.767934</td>\n",
       "    </tr>\n",
       "    <tr>\n",
       "      <th>75%</th>\n",
       "      <td>72.877696</td>\n",
       "      <td>22.120395</td>\n",
       "      <td>63.000000</td>\n",
       "      <td>52.695888</td>\n",
       "      <td>125.467674</td>\n",
       "      <td>41.287352</td>\n",
       "    </tr>\n",
       "    <tr>\n",
       "      <th>max</th>\n",
       "      <td>129.834041</td>\n",
       "      <td>49.431864</td>\n",
       "      <td>125.742385</td>\n",
       "      <td>121.429566</td>\n",
       "      <td>163.071041</td>\n",
       "      <td>418.543082</td>\n",
       "    </tr>\n",
       "  </tbody>\n",
       "</table>\n",
       "</div>"
      ],
      "text/plain": [
       "       pelvic_incidence  pelvic_tilt  lumbar_lordosis_angle  sacral_slope  \\\n",
       "count        310.000000   310.000000             310.000000    310.000000   \n",
       "mean          60.496653    17.542822              51.930930     42.953831   \n",
       "std           17.236520    10.008330              18.554064     13.423102   \n",
       "min           26.147921    -6.554948              14.000000     13.366931   \n",
       "25%           46.430294    10.667069              37.000000     33.347122   \n",
       "50%           58.691038    16.357689              49.562398     42.404912   \n",
       "75%           72.877696    22.120395              63.000000     52.695888   \n",
       "max          129.834041    49.431864             125.742385    121.429566   \n",
       "\n",
       "       pelvic_radius  degree_spondylolisthesis  \n",
       "count     310.000000                310.000000  \n",
       "mean      117.920655                 26.296694  \n",
       "std        13.317377                 37.559027  \n",
       "min        70.082575                -11.058179  \n",
       "25%       110.709196                  1.603727  \n",
       "50%       118.268178                 11.767934  \n",
       "75%       125.467674                 41.287352  \n",
       "max       163.071041                418.543082  "
      ]
     },
     "execution_count": 3,
     "metadata": {},
     "output_type": "execute_result"
    }
   ],
   "source": [
    "# Print data summary\n",
    "df.info()\n",
    "df.describe()"
   ]
  },
  {
   "cell_type": "code",
   "execution_count": 4,
   "id": "69e97138",
   "metadata": {},
   "outputs": [],
   "source": [
    "# Split data into features and class\n",
    "X = df.iloc[:, :6].to_numpy()\n",
    "y = df['class'].to_numpy()\n",
    "\n",
    "# Endode class labels with 0 and 1 and convert object to int\n",
    "y[y == 'Normal'] = 0\n",
    "y[y == 'Abnormal'] = 1\n",
    "y = y.astype(int)"
   ]
  },
  {
   "cell_type": "markdown",
   "id": "b8a0d8bb",
   "metadata": {},
   "source": [
    "# Question (1)(b)(i)"
   ]
  },
  {
   "cell_type": "code",
   "execution_count": null,
   "id": "f29086aa",
   "metadata": {},
   "outputs": [],
   "source": [
    "# Pairwise scatterplots\n",
    "sns.pairplot(df, hue='class')"
   ]
  },
  {
   "cell_type": "markdown",
   "id": "ecfbfb02",
   "metadata": {},
   "source": [
    "# Question (1)(b)(ii)"
   ]
  },
  {
   "cell_type": "code",
   "execution_count": null,
   "id": "7a67b61c",
   "metadata": {},
   "outputs": [],
   "source": [
    "sns.boxplot(x=df['class'], y=df['pelvic_incidence'], hue=df['class'])"
   ]
  },
  {
   "cell_type": "code",
   "execution_count": null,
   "id": "74f4bac0",
   "metadata": {},
   "outputs": [],
   "source": [
    "sns.boxplot(x=df['class'], y=df['pelvic_tilt'], hue=df['class'])"
   ]
  },
  {
   "cell_type": "code",
   "execution_count": null,
   "id": "9a8fdb2a",
   "metadata": {},
   "outputs": [],
   "source": [
    "sns.boxplot(x=df['class'], y=df['lumbar_lordosis_angle'], hue=df['class'])"
   ]
  },
  {
   "cell_type": "code",
   "execution_count": null,
   "id": "744daa89",
   "metadata": {},
   "outputs": [],
   "source": [
    "sns.boxplot(x=df['class'], y=df['sacral_slope'], hue=df['class'])"
   ]
  },
  {
   "cell_type": "code",
   "execution_count": null,
   "id": "09012eb9",
   "metadata": {},
   "outputs": [],
   "source": [
    "sns.boxplot(x=df['class'], y=df['pelvic_radius'], hue=df['class'])"
   ]
  },
  {
   "cell_type": "code",
   "execution_count": null,
   "id": "ef4624a5",
   "metadata": {},
   "outputs": [],
   "source": [
    "sns.boxplot(x=df['class'], y=df['degree_spondylolisthesis'], hue=df['class'])"
   ]
  },
  {
   "cell_type": "markdown",
   "id": "c423993c",
   "metadata": {},
   "source": [
    "# Question (1)(b)(iii)"
   ]
  },
  {
   "cell_type": "code",
   "execution_count": null,
   "id": "da89539e",
   "metadata": {},
   "outputs": [],
   "source": [
    "zeros = df[df['class'] == 0]\n",
    "ones = df[df['class'] == 1]\n",
    "\n",
    "X_train = pd.concat([pd.DataFrame(zeros.iloc[:70, :6]), pd.DataFrame(ones.iloc[:140, :6])]).to_numpy()\n",
    "X_test = pd.concat([pd.DataFrame(zeros.iloc[70:, :6]), pd.DataFrame(ones.iloc[140:, :6])]).to_numpy()\n",
    "y_train = pd.concat([pd.DataFrame(zeros['class'].iloc[:70]), pd.DataFrame(ones['class'].iloc[:140])]).to_numpy().ravel().astype(int)\n",
    "y_test = pd.concat([pd.DataFrame(zeros['class'].iloc[70:]), pd.DataFrame(ones['class'].iloc[140:])]).to_numpy().ravel().astype(int)\n",
    "            \n",
    "# print(X_train)\n",
    "# print(X_test)\n",
    "# print(y_train)\n",
    "# print(y_test)"
   ]
  },
  {
   "cell_type": "markdown",
   "id": "90e225fd",
   "metadata": {},
   "source": [
    "# Question (1)(c)(i)(ii)"
   ]
  },
  {
   "cell_type": "code",
   "execution_count": null,
   "id": "da005407",
   "metadata": {},
   "outputs": [],
   "source": [
    "# Fit the classifier to the training data\n",
    "from sklearn.metrics import precision_recall_fscore_support\n",
    "train_accuracies = []\n",
    "test_accuracies = []\n",
    "train_error_rate = []\n",
    "test_error_rate = []\n",
    "\n",
    "for k in range(208, 0, -3):\n",
    "    classifier = KNeighborsClassifier(n_neighbors=k)\n",
    "    classifier.fit(X_train, y_train)\n",
    "    \n",
    "    y_train_pred = classifier.predict(X_train)\n",
    "    train_accuracies.append(accuracy_score(y_train, y_train_pred))\n",
    "    train_error_rate.append([k, round(1 - accuracy_score(y_train, y_train_pred), 3)])\n",
    "    \n",
    "    y_test_pred = classifier.predict(X_test)\n",
    "    test_accuracies.append(accuracy_score(y_test, y_test_pred))\n",
    "    test_error_rate.append([k, round(1 - accuracy_score(y_test, y_test_pred), 3)])\n",
    "\n",
    "# print(train_accuracies)\n",
    "# print(test_accuracies)\n",
    "# print(train_error_rate)\n",
    "# print(test_error_rate)"
   ]
  },
  {
   "cell_type": "code",
   "execution_count": null,
   "id": "c9fdc773",
   "metadata": {},
   "outputs": [],
   "source": [
    "print('[K*, Error Rate]')\n",
    "print('Train:', train_error_rate[np.argmax(train_accuracies)])\n",
    "print('Test: ', test_error_rate[np.argmax(test_accuracies)])"
   ]
  },
  {
   "cell_type": "code",
   "execution_count": null,
   "id": "242b6e57",
   "metadata": {},
   "outputs": [],
   "source": [
    "train_error_rate_df = pd.DataFrame(train_error_rate)\n",
    "train_error_rate_df.columns = ['K', 'Error Rate']\n",
    "test_error_rate_df = pd.DataFrame(test_error_rate)\n",
    "test_error_rate_df.columns = ['K', 'Error Rate']\n",
    "sns.lineplot(data=train_error_rate_df, x='K', y='Error Rate') # train error-rate: blue\n",
    "sns.lineplot(data=test_error_rate_df, x='K', y='Error Rate')  # test error-rate: orange"
   ]
  },
  {
   "cell_type": "code",
   "execution_count": null,
   "id": "44de1429",
   "metadata": {},
   "outputs": [],
   "source": [
    "classifier = KNeighborsClassifier(n_neighbors=4)\n",
    "classifier.fit(X_train, y_train)\n",
    "\n",
    "y_pred = classifier.predict(X_test)\n",
    "CM = confusion_matrix(y_test, y_pred)\n",
    "TP = CM[1][1]\n",
    "TN = CM[0][0]\n",
    "print('Confusion Matrix:')\n",
    "print(CM[0])\n",
    "print(CM[1])\n",
    "print('True Positive Rate:', TP)\n",
    "print('True Negative Rate:', TN)\n",
    "print('Precision Score:', precision_score(y_test, y_pred))\n",
    "print('F1 Score:', f1_score(y_test, y_pred, average=None))"
   ]
  },
  {
   "cell_type": "markdown",
   "id": "68a9286e",
   "metadata": {},
   "source": [
    "# Question (1)(c)(iii)"
   ]
  },
  {
   "cell_type": "code",
   "execution_count": null,
   "id": "7bf98e1a",
   "metadata": {},
   "outputs": [],
   "source": [
    "plot = []\n",
    "for N in range(10, 220, 10):\n",
    "    accuracies = []\n",
    "    error_rate = []\n",
    "    zero_train_size = round(N/3) # floor/truncate\n",
    "    one_train_size = N - zero_train_size\n",
    "    X_train = pd.concat([pd.DataFrame(zeros.iloc[:zero_train_size, :6]), pd.DataFrame(ones.iloc[:one_train_size, :6])]).to_numpy()\n",
    "    X_test = pd.concat([pd.DataFrame(zeros.iloc[zero_train_size:, :6]), pd.DataFrame(ones.iloc[one_train_size:, :6])]).to_numpy()\n",
    "    y_train = pd.concat([pd.DataFrame(zeros['class'].iloc[:zero_train_size]), pd.DataFrame(ones['class'].iloc[:one_train_size])]).to_numpy().ravel().astype(int)\n",
    "    y_test = pd.concat([pd.DataFrame(zeros['class'].iloc[zero_train_size:]), pd.DataFrame(ones['class'].iloc[one_train_size:])]).to_numpy().ravel().astype(int)\n",
    "    \n",
    "    for k in range(1, N, 5):\n",
    "        classifier = KNeighborsClassifier(n_neighbors=k)\n",
    "        classifier.fit(X_train, y_train)\n",
    "        \n",
    "        y_test_pred = classifier.predict(X_test)\n",
    "        accuracies.append(accuracy_score(y_test, y_test_pred))\n",
    "        error_rate.append([k, round(1 - accuracy_score(y_test, y_test_pred), 3)])\n",
    "    \n",
    "    # print(error_rate)\n",
    "    # print('N = ', N, error_rate[np.argmax(accuracies)][1])\n",
    "    plot.append([N, error_rate[np.argmax(accuracies)][1]])\n",
    "\n",
    "best_test_error_rate = pd.DataFrame(plot)\n",
    "best_test_error_rate.columns = ['N', 'Error Rate']\n",
    "sns.lineplot(data=best_test_error_rate, x='N', y='Error Rate')"
   ]
  },
  {
   "cell_type": "markdown",
   "id": "9ba98ebd",
   "metadata": {},
   "source": [
    "# Question (1)(d)(i)(A)"
   ]
  },
  {
   "cell_type": "code",
   "execution_count": null,
   "id": "de2401e8",
   "metadata": {},
   "outputs": [],
   "source": [
    "N = 200\n",
    "accuracies = []\n",
    "error_rate = []\n",
    "zero_train_size = round(N/3) # floor/truncate\n",
    "one_train_size = N - zero_train_size\n",
    "X_train = pd.concat([pd.DataFrame(zeros.iloc[:zero_train_size, :6]), pd.DataFrame(ones.iloc[:one_train_size, :6])]).to_numpy()\n",
    "X_test = pd.concat([pd.DataFrame(zeros.iloc[zero_train_size:, :6]), pd.DataFrame(ones.iloc[one_train_size:, :6])]).to_numpy()\n",
    "y_train = pd.concat([pd.DataFrame(zeros['class'].iloc[:zero_train_size]), pd.DataFrame(ones['class'].iloc[:one_train_size])]).to_numpy().ravel().astype(int)\n",
    "y_test = pd.concat([pd.DataFrame(zeros['class'].iloc[zero_train_size:]), pd.DataFrame(ones['class'].iloc[one_train_size:])]).to_numpy().ravel().astype(int)\n",
    "\n",
    "for k in range(1, N, 5):\n",
    "    classifier = KNeighborsClassifier(n_neighbors=k, p=1)\n",
    "    classifier.fit(X_train, y_train)\n",
    "\n",
    "    y_test_pred = classifier.predict(X_test)\n",
    "    accuracies.append(accuracy_score(y_test, y_test_pred))\n",
    "    error_rate.append([k, round(1 - accuracy_score(y_test, y_test_pred), 3)])\n",
    "\n",
    "print('[K*, Test Error Rate]')\n",
    "print(error_rate[np.argmax(accuracies)])\n",
    "# use k=6 since it has same error rate as k=1"
   ]
  },
  {
   "cell_type": "markdown",
   "id": "dd9af06e",
   "metadata": {},
   "source": [
    "# Question (1)(d)(i)(B)"
   ]
  },
  {
   "cell_type": "code",
   "execution_count": null,
   "id": "28533e2e",
   "metadata": {},
   "outputs": [],
   "source": [
    "k = 6\n",
    "N = 200\n",
    "accuracies = []\n",
    "error_rate = []\n",
    "zero_train_size = round(N/3) # floor/truncate\n",
    "one_train_size = N - zero_train_size\n",
    "X_train = pd.concat([pd.DataFrame(zeros.iloc[:zero_train_size, :6]), pd.DataFrame(ones.iloc[:one_train_size, :6])]).to_numpy()\n",
    "X_test = pd.concat([pd.DataFrame(zeros.iloc[zero_train_size:, :6]), pd.DataFrame(ones.iloc[one_train_size:, :6])]).to_numpy()\n",
    "y_train = pd.concat([pd.DataFrame(zeros['class'].iloc[:zero_train_size]), pd.DataFrame(ones['class'].iloc[:one_train_size])]).to_numpy().ravel().astype(int)\n",
    "y_test = pd.concat([pd.DataFrame(zeros['class'].iloc[zero_train_size:]), pd.DataFrame(ones['class'].iloc[one_train_size:])]).to_numpy().ravel().astype(int)\n",
    "\n",
    "for p in range(1, 11, 1):\n",
    "    p = p/10\n",
    "    classifier = KNeighborsClassifier(n_neighbors=k, p=10**p)\n",
    "    classifier.fit(X_train, y_train)\n",
    "\n",
    "    y_test_pred = classifier.predict(X_test)\n",
    "    accuracies.append(accuracy_score(y_test, y_test_pred))\n",
    "    error_rate.append([p, round(1 - accuracy_score(y_test, y_test_pred), 3)])\n",
    "\n",
    "print('[log10(p)*, Test Error Rate]')\n",
    "print(error_rate[np.argmax(accuracies)])"
   ]
  },
  {
   "cell_type": "markdown",
   "id": "abdf1805",
   "metadata": {},
   "source": [
    "# Question (1)(d)(i)(C)"
   ]
  },
  {
   "cell_type": "code",
   "execution_count": null,
   "id": "f77f8330",
   "metadata": {},
   "outputs": [],
   "source": [
    "N = 200\n",
    "accuracies = []\n",
    "error_rate = []\n",
    "zero_train_size = round(N/3) # floor/truncate\n",
    "one_train_size = N - zero_train_size\n",
    "X_train = pd.concat([pd.DataFrame(zeros.iloc[:zero_train_size, :6]), pd.DataFrame(ones.iloc[:one_train_size, :6])]).to_numpy()\n",
    "X_test = pd.concat([pd.DataFrame(zeros.iloc[zero_train_size:, :6]), pd.DataFrame(ones.iloc[one_train_size:, :6])]).to_numpy()\n",
    "y_train = pd.concat([pd.DataFrame(zeros['class'].iloc[:zero_train_size]), pd.DataFrame(ones['class'].iloc[:one_train_size])]).to_numpy().ravel().astype(int)\n",
    "y_test = pd.concat([pd.DataFrame(zeros['class'].iloc[zero_train_size:]), pd.DataFrame(ones['class'].iloc[one_train_size:])]).to_numpy().ravel().astype(int)\n",
    "\n",
    "for k in range(1, N, 5):\n",
    "    classifier = KNeighborsClassifier(n_neighbors=k, metric='chebyshev')\n",
    "    classifier.fit(X_train, y_train)\n",
    "\n",
    "    y_test_pred = classifier.predict(X_test)\n",
    "    accuracies.append(accuracy_score(y_test, y_test_pred))\n",
    "    error_rate.append([k, round(1 - accuracy_score(y_test, y_test_pred), 3)])\n",
    "\n",
    "print('[K*, Test Error Rate]')\n",
    "print(error_rate[np.argmax(accuracies)])"
   ]
  },
  {
   "cell_type": "markdown",
   "id": "698144c0",
   "metadata": {},
   "source": [
    "# Question (1)(d)(ii)"
   ]
  },
  {
   "cell_type": "code",
   "execution_count": null,
   "id": "a7666554",
   "metadata": {
    "scrolled": true
   },
   "outputs": [],
   "source": [
    "N = 200\n",
    "accuracies = []\n",
    "error_rate = []\n",
    "zero_train_size = round(N/3) # floor/truncate\n",
    "one_train_size = N - zero_train_size\n",
    "X_train = pd.concat([pd.DataFrame(zeros.iloc[:zero_train_size, :6]), pd.DataFrame(ones.iloc[:one_train_size, :6])]).to_numpy()\n",
    "X_test = pd.concat([pd.DataFrame(zeros.iloc[zero_train_size:, :6]), pd.DataFrame(ones.iloc[one_train_size:, :6])]).to_numpy()\n",
    "y_train = pd.concat([pd.DataFrame(zeros['class'].iloc[:zero_train_size]), pd.DataFrame(ones['class'].iloc[:one_train_size])]).to_numpy().ravel().astype(int)\n",
    "y_test = pd.concat([pd.DataFrame(zeros['class'].iloc[zero_train_size:]), pd.DataFrame(ones['class'].iloc[one_train_size:])]).to_numpy().ravel().astype(int)\n",
    "\n",
    "for k in range(1, N, 5):\n",
    "    classifier = KNeighborsClassifier(n_neighbors=k, metric='mahalanobis', metric_params={'VI': np.linalg.pinv(np.cov(X_train, rowvar=False))})\n",
    "    classifier.fit(X_train, y_train)\n",
    "\n",
    "    y_test_pred = classifier.predict(X_test)\n",
    "    accuracies.append(accuracy_score(y_test, y_test_pred))\n",
    "    error_rate.append([k, round(1 - accuracy_score(y_test, y_test_pred), 3)])\n",
    "\n",
    "print('[K*, Test Error Rate]')\n",
    "print(error_rate[np.argmax(accuracies)])"
   ]
  },
  {
   "cell_type": "code",
   "execution_count": null,
   "id": "4980f8f4",
   "metadata": {},
   "outputs": [],
   "source": [
    "table = [['Metric', 'K*', 'Test Error Rate'],\n",
    "         ['Minkowski (p=1)', 6, 0.1],\n",
    "         ['Minkowski (log10(p)=0.1)', 6, 0.091],\n",
    "         ['Minkowski (log10(p)=0.2)', 6, 0.091],\n",
    "         ['Minkowski (log10(p)=0.3)', 6, 0.082],\n",
    "         ['Minkowski (log10(p)=0.4)', 6, 0.082],\n",
    "         ['Minkowski (log10(p)=0.5)', 6, 0.073],\n",
    "         ['Minkowski (log10(p)=0.6)', 6, 0.055],\n",
    "         ['Minkowski (log10(p)=0.7)', 6, 0.064],\n",
    "         ['Minkowski (log10(p)=0.8)', 6, 0.073],\n",
    "         ['Minkowski (log10(p)=0.9)', 6, 0.082],\n",
    "         ['Minkowski (log10(p)=1.0)', 6, 0.082],\n",
    "         ['Chebyshev (p=inf)', 16, 0.082],\n",
    "         ['Mahalanobis', 6, 0.136]]\n",
    "\n",
    "print(tabulate(table, headers='firstrow'))"
   ]
  },
  {
   "cell_type": "markdown",
   "id": "d58ccfd0",
   "metadata": {},
   "source": [
    "# Question (1)(e)"
   ]
  },
  {
   "cell_type": "code",
   "execution_count": null,
   "id": "b6e6d066",
   "metadata": {},
   "outputs": [],
   "source": [
    "N = 200\n",
    "accuracies = []\n",
    "error_rate = []\n",
    "zero_train_size = round(N/3) # floor/truncate\n",
    "one_train_size = N - zero_train_size\n",
    "X_train = pd.concat([pd.DataFrame(zeros.iloc[:zero_train_size, :6]), pd.DataFrame(ones.iloc[:one_train_size, :6])]).to_numpy()\n",
    "X_test = pd.concat([pd.DataFrame(zeros.iloc[zero_train_size:, :6]), pd.DataFrame(ones.iloc[one_train_size:, :6])]).to_numpy()\n",
    "y_train = pd.concat([pd.DataFrame(zeros['class'].iloc[:zero_train_size]), pd.DataFrame(ones['class'].iloc[:one_train_size])]).to_numpy().ravel().astype(int)\n",
    "y_test = pd.concat([pd.DataFrame(zeros['class'].iloc[zero_train_size:]), pd.DataFrame(ones['class'].iloc[one_train_size:])]).to_numpy().ravel().astype(int)\n",
    "\n",
    "for k in range(1, N, 5):\n",
    "    classifier = KNeighborsClassifier(n_neighbors=k, weights='distance')\n",
    "    classifier.fit(X_train, y_train)\n",
    "\n",
    "    y_test_pred = classifier.predict(X_test)\n",
    "    accuracies.append(accuracy_score(y_test, y_test_pred))\n",
    "    error_rate.append([k, round(1 - accuracy_score(y_test, y_test_pred), 3)])\n",
    "\n",
    "print('Euclidean')\n",
    "print('[K*, Test Error Rate]')\n",
    "print(error_rate[np.argmax(accuracies)])"
   ]
  },
  {
   "cell_type": "code",
   "execution_count": null,
   "id": "f7599db7",
   "metadata": {},
   "outputs": [],
   "source": [
    "N = 200\n",
    "accuracies = []\n",
    "error_rate = []\n",
    "zero_train_size = round(N/3) # floor/truncate\n",
    "one_train_size = N - zero_train_size\n",
    "X_train = pd.concat([pd.DataFrame(zeros.iloc[:zero_train_size, :6]), pd.DataFrame(ones.iloc[:one_train_size, :6])]).to_numpy()\n",
    "X_test = pd.concat([pd.DataFrame(zeros.iloc[zero_train_size:, :6]), pd.DataFrame(ones.iloc[one_train_size:, :6])]).to_numpy()\n",
    "y_train = pd.concat([pd.DataFrame(zeros['class'].iloc[:zero_train_size]), pd.DataFrame(ones['class'].iloc[:one_train_size])]).to_numpy().ravel().astype(int)\n",
    "y_test = pd.concat([pd.DataFrame(zeros['class'].iloc[zero_train_size:]), pd.DataFrame(ones['class'].iloc[one_train_size:])]).to_numpy().ravel().astype(int)\n",
    "\n",
    "for k in range(1, N, 5):\n",
    "    classifier = KNeighborsClassifier(n_neighbors=k, p=1, weights='distance')\n",
    "    classifier.fit(X_train, y_train)\n",
    "\n",
    "    y_test_pred = classifier.predict(X_test)\n",
    "    accuracies.append(accuracy_score(y_test, y_test_pred))\n",
    "    error_rate.append([k, round(1 - accuracy_score(y_test, y_test_pred), 3)])\n",
    "\n",
    "print('Manhattan')\n",
    "print('[K*, Test Error Rate]')\n",
    "print(error_rate[np.argmax(accuracies)])"
   ]
  },
  {
   "cell_type": "code",
   "execution_count": null,
   "id": "d2814358",
   "metadata": {},
   "outputs": [],
   "source": [
    "N = 200\n",
    "accuracies = []\n",
    "error_rate = []\n",
    "zero_train_size = round(N/3) # floor/truncate\n",
    "one_train_size = N - zero_train_size\n",
    "X_train = pd.concat([pd.DataFrame(zeros.iloc[:zero_train_size, :6]), pd.DataFrame(ones.iloc[:one_train_size, :6])]).to_numpy()\n",
    "X_test = pd.concat([pd.DataFrame(zeros.iloc[zero_train_size:, :6]), pd.DataFrame(ones.iloc[one_train_size:, :6])]).to_numpy()\n",
    "y_train = pd.concat([pd.DataFrame(zeros['class'].iloc[:zero_train_size]), pd.DataFrame(ones['class'].iloc[:one_train_size])]).to_numpy().ravel().astype(int)\n",
    "y_test = pd.concat([pd.DataFrame(zeros['class'].iloc[zero_train_size:]), pd.DataFrame(ones['class'].iloc[one_train_size:])]).to_numpy().ravel().astype(int)\n",
    "\n",
    "for k in range(1, N, 5):\n",
    "    classifier = KNeighborsClassifier(n_neighbors=k, metric='chebyshev', weights='distance')\n",
    "    classifier.fit(X_train, y_train)\n",
    "\n",
    "    y_test_pred = classifier.predict(X_test)\n",
    "    accuracies.append(accuracy_score(y_test, y_test_pred))\n",
    "    error_rate.append([k, round(1 - accuracy_score(y_test, y_test_pred), 3)])\n",
    "\n",
    "print('Chebyshev')\n",
    "print('[K*, Test Error Rate]')\n",
    "print(error_rate[np.argmax(accuracies)])"
   ]
  },
  {
   "cell_type": "markdown",
   "id": "b28ff908",
   "metadata": {},
   "source": [
    "# Question (1)(e)"
   ]
  },
  {
   "cell_type": "markdown",
   "id": "db8f012e",
   "metadata": {},
   "source": [
    "The lowest training error rate I achieved in this homework was 0 in part (1)(c)(ii) with k=1."
   ]
  }
 ],
 "metadata": {
  "kernelspec": {
   "display_name": "Python 3 (ipykernel)",
   "language": "python",
   "name": "python3"
  },
  "language_info": {
   "codemirror_mode": {
    "name": "ipython",
    "version": 3
   },
   "file_extension": ".py",
   "mimetype": "text/x-python",
   "name": "python",
   "nbconvert_exporter": "python",
   "pygments_lexer": "ipython3",
   "version": "3.9.12"
  }
 },
 "nbformat": 4,
 "nbformat_minor": 5
}
