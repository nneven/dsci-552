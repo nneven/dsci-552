{
 "cells": [
  {
   "cell_type": "code",
   "execution_count": 1,
   "id": "5898ac89",
   "metadata": {},
   "outputs": [],
   "source": [
    "import os\n",
    "import numpy as np\n",
    "import pandas as pd\n",
    "from scipy.stats import bootstrap"
   ]
  },
  {
   "cell_type": "code",
   "execution_count": 2,
   "id": "c140d596",
   "metadata": {},
   "outputs": [],
   "source": [
    "df_headers = ['activity', 'dataset']\n",
    "for i in range(1, 7):\n",
    "    df_headers.append('min-' + str(i))\n",
    "    df_headers.append('max-' + str(i))\n",
    "    df_headers.append('mean-' + str(i))\n",
    "    df_headers.append('median-' + str(i))\n",
    "    df_headers.append('std-' + str(i))\n",
    "    df_headers.append('1quart-' + str(i))\n",
    "    df_headers.append('3quart-' + str(i))\n",
    "\n",
    "# print(df_headers)"
   ]
  },
  {
   "cell_type": "markdown",
   "id": "de5f729c",
   "metadata": {},
   "source": [
    "# Question (1) (a) (b) (c) (i) (ii)"
   ]
  },
  {
   "cell_type": "code",
   "execution_count": 3,
   "id": "37387633",
   "metadata": {},
   "outputs": [],
   "source": [
    "df = pd.DataFrame(columns=df_headers)\n",
    "\n",
    "for root, dirs, files in os.walk('../data/ARem'):\n",
    "    for filename in files:\n",
    "        if 'csv' in filename:\n",
    "            df_row = []\n",
    "            activity = root.replace('../data/ARem/', '') # activity\n",
    "            dataset = filename.replace('.csv', '') # dataset\n",
    "            df_row.extend((activity, dataset))\n",
    "            # print(df_row)\n",
    "            \n",
    "            seperator = ','\n",
    "            if (activity == 'bending2') and (dataset == 'dataset4'): seperator = ' '\n",
    "                \n",
    "            path = os.path.join(root, filename)\n",
    "            df_instance = pd.read_csv(path, skiprows=5, header=None, sep=seperator)\n",
    "            for i in range(1, 7):\n",
    "                df_row.append(df_instance.min()[i])\n",
    "                df_row.append(df_instance.max()[i])\n",
    "                df_row.append(df_instance.mean()[i])\n",
    "                df_row.append(df_instance.median()[i])\n",
    "                df_row.append(df_instance.std()[i])\n",
    "                df_row.append(df_instance.quantile(0.25)[i])\n",
    "                df_row.append(df_instance.quantile(0.75)[i])\n",
    "            df.loc[len(df.index)] = df_row"
   ]
  },
  {
   "cell_type": "code",
   "execution_count": 4,
   "id": "4983f595",
   "metadata": {
    "scrolled": true
   },
   "outputs": [
    {
     "data": {
      "text/html": [
       "<div>\n",
       "<style scoped>\n",
       "    .dataframe tbody tr th:only-of-type {\n",
       "        vertical-align: middle;\n",
       "    }\n",
       "\n",
       "    .dataframe tbody tr th {\n",
       "        vertical-align: top;\n",
       "    }\n",
       "\n",
       "    .dataframe thead th {\n",
       "        text-align: right;\n",
       "    }\n",
       "</style>\n",
       "<table border=\"1\" class=\"dataframe\">\n",
       "  <thead>\n",
       "    <tr style=\"text-align: right;\">\n",
       "      <th></th>\n",
       "      <th>activity</th>\n",
       "      <th>dataset</th>\n",
       "      <th>min-1</th>\n",
       "      <th>max-1</th>\n",
       "      <th>mean-1</th>\n",
       "      <th>median-1</th>\n",
       "      <th>std-1</th>\n",
       "      <th>1quart-1</th>\n",
       "      <th>3quart-1</th>\n",
       "      <th>min-2</th>\n",
       "      <th>...</th>\n",
       "      <th>std-5</th>\n",
       "      <th>1quart-5</th>\n",
       "      <th>3quart-5</th>\n",
       "      <th>min-6</th>\n",
       "      <th>max-6</th>\n",
       "      <th>mean-6</th>\n",
       "      <th>median-6</th>\n",
       "      <th>std-6</th>\n",
       "      <th>1quart-6</th>\n",
       "      <th>3quart-6</th>\n",
       "    </tr>\n",
       "  </thead>\n",
       "  <tbody>\n",
       "    <tr>\n",
       "      <th>0</th>\n",
       "      <td>bending1</td>\n",
       "      <td>dataset7</td>\n",
       "      <td>36.25</td>\n",
       "      <td>48.00</td>\n",
       "      <td>43.969125</td>\n",
       "      <td>44.50</td>\n",
       "      <td>1.618364</td>\n",
       "      <td>43.31</td>\n",
       "      <td>44.67</td>\n",
       "      <td>0.0</td>\n",
       "      <td>...</td>\n",
       "      <td>3.318301</td>\n",
       "      <td>20.5000</td>\n",
       "      <td>23.75</td>\n",
       "      <td>0.0</td>\n",
       "      <td>2.96</td>\n",
       "      <td>0.555313</td>\n",
       "      <td>0.49</td>\n",
       "      <td>0.487826</td>\n",
       "      <td>0.00</td>\n",
       "      <td>0.83</td>\n",
       "    </tr>\n",
       "    <tr>\n",
       "      <th>1</th>\n",
       "      <td>bending1</td>\n",
       "      <td>dataset6</td>\n",
       "      <td>37.00</td>\n",
       "      <td>48.00</td>\n",
       "      <td>43.454958</td>\n",
       "      <td>43.25</td>\n",
       "      <td>1.386098</td>\n",
       "      <td>42.50</td>\n",
       "      <td>45.00</td>\n",
       "      <td>0.0</td>\n",
       "      <td>...</td>\n",
       "      <td>2.488862</td>\n",
       "      <td>22.2500</td>\n",
       "      <td>24.00</td>\n",
       "      <td>0.0</td>\n",
       "      <td>5.26</td>\n",
       "      <td>0.679646</td>\n",
       "      <td>0.50</td>\n",
       "      <td>0.622534</td>\n",
       "      <td>0.43</td>\n",
       "      <td>0.87</td>\n",
       "    </tr>\n",
       "    <tr>\n",
       "      <th>2</th>\n",
       "      <td>bending1</td>\n",
       "      <td>dataset4</td>\n",
       "      <td>33.00</td>\n",
       "      <td>47.75</td>\n",
       "      <td>42.179813</td>\n",
       "      <td>43.50</td>\n",
       "      <td>3.670666</td>\n",
       "      <td>39.15</td>\n",
       "      <td>45.00</td>\n",
       "      <td>0.0</td>\n",
       "      <td>...</td>\n",
       "      <td>3.849448</td>\n",
       "      <td>30.4575</td>\n",
       "      <td>36.33</td>\n",
       "      <td>0.0</td>\n",
       "      <td>2.18</td>\n",
       "      <td>0.613521</td>\n",
       "      <td>0.50</td>\n",
       "      <td>0.524317</td>\n",
       "      <td>0.00</td>\n",
       "      <td>1.00</td>\n",
       "    </tr>\n",
       "    <tr>\n",
       "      <th>3</th>\n",
       "      <td>bending1</td>\n",
       "      <td>dataset5</td>\n",
       "      <td>33.00</td>\n",
       "      <td>45.75</td>\n",
       "      <td>41.678063</td>\n",
       "      <td>41.75</td>\n",
       "      <td>2.243490</td>\n",
       "      <td>41.33</td>\n",
       "      <td>42.75</td>\n",
       "      <td>0.0</td>\n",
       "      <td>...</td>\n",
       "      <td>2.411026</td>\n",
       "      <td>28.4575</td>\n",
       "      <td>31.25</td>\n",
       "      <td>0.0</td>\n",
       "      <td>1.79</td>\n",
       "      <td>0.383292</td>\n",
       "      <td>0.43</td>\n",
       "      <td>0.389164</td>\n",
       "      <td>0.00</td>\n",
       "      <td>0.50</td>\n",
       "    </tr>\n",
       "    <tr>\n",
       "      <th>4</th>\n",
       "      <td>bending1</td>\n",
       "      <td>dataset1</td>\n",
       "      <td>37.25</td>\n",
       "      <td>45.00</td>\n",
       "      <td>40.624792</td>\n",
       "      <td>40.50</td>\n",
       "      <td>1.476967</td>\n",
       "      <td>39.25</td>\n",
       "      <td>42.00</td>\n",
       "      <td>0.0</td>\n",
       "      <td>...</td>\n",
       "      <td>2.188449</td>\n",
       "      <td>33.0000</td>\n",
       "      <td>36.00</td>\n",
       "      <td>0.0</td>\n",
       "      <td>1.92</td>\n",
       "      <td>0.570583</td>\n",
       "      <td>0.43</td>\n",
       "      <td>0.582915</td>\n",
       "      <td>0.00</td>\n",
       "      <td>1.30</td>\n",
       "    </tr>\n",
       "  </tbody>\n",
       "</table>\n",
       "<p>5 rows × 44 columns</p>\n",
       "</div>"
      ],
      "text/plain": [
       "   activity   dataset  min-1  max-1     mean-1  median-1     std-1  1quart-1  \\\n",
       "0  bending1  dataset7  36.25  48.00  43.969125     44.50  1.618364     43.31   \n",
       "1  bending1  dataset6  37.00  48.00  43.454958     43.25  1.386098     42.50   \n",
       "2  bending1  dataset4  33.00  47.75  42.179813     43.50  3.670666     39.15   \n",
       "3  bending1  dataset5  33.00  45.75  41.678063     41.75  2.243490     41.33   \n",
       "4  bending1  dataset1  37.25  45.00  40.624792     40.50  1.476967     39.25   \n",
       "\n",
       "   3quart-1  min-2  ...     std-5  1quart-5  3quart-5  min-6  max-6    mean-6  \\\n",
       "0     44.67    0.0  ...  3.318301   20.5000     23.75    0.0   2.96  0.555313   \n",
       "1     45.00    0.0  ...  2.488862   22.2500     24.00    0.0   5.26  0.679646   \n",
       "2     45.00    0.0  ...  3.849448   30.4575     36.33    0.0   2.18  0.613521   \n",
       "3     42.75    0.0  ...  2.411026   28.4575     31.25    0.0   1.79  0.383292   \n",
       "4     42.00    0.0  ...  2.188449   33.0000     36.00    0.0   1.92  0.570583   \n",
       "\n",
       "   median-6     std-6  1quart-6  3quart-6  \n",
       "0      0.49  0.487826      0.00      0.83  \n",
       "1      0.50  0.622534      0.43      0.87  \n",
       "2      0.50  0.524317      0.00      1.00  \n",
       "3      0.43  0.389164      0.00      0.50  \n",
       "4      0.43  0.582915      0.00      1.30  \n",
       "\n",
       "[5 rows x 44 columns]"
      ]
     },
     "execution_count": 4,
     "metadata": {},
     "output_type": "execute_result"
    }
   ],
   "source": [
    "df.head()"
   ]
  },
  {
   "cell_type": "markdown",
   "id": "a03117b3",
   "metadata": {},
   "source": [
    "# Question (1) (c) (iii)"
   ]
  },
  {
   "cell_type": "code",
   "execution_count": 5,
   "id": "f347829a",
   "metadata": {},
   "outputs": [
    {
     "data": {
      "text/plain": [
       "min-1       9.569975\n",
       "max-1       4.394362\n",
       "mean-1      5.335718\n",
       "median-1    5.440054\n",
       "std-1       1.772153\n",
       "1quart-1    6.153590\n",
       "3quart-1    5.138925\n",
       "min-2       0.000000\n",
       "max-2       5.062729\n",
       "mean-2      1.574164\n",
       "median-2    1.412244\n",
       "std-2       0.884105\n",
       "1quart-2    0.946386\n",
       "3quart-2    2.125266\n",
       "min-3       2.956462\n",
       "max-3       4.875137\n",
       "mean-3      4.008380\n",
       "median-3    4.036396\n",
       "std-3       0.946710\n",
       "1quart-3    4.220658\n",
       "3quart-3    4.171628\n",
       "min-4       0.000000\n",
       "max-4       2.183625\n",
       "mean-4      1.166114\n",
       "median-4    1.145586\n",
       "std-4       0.458242\n",
       "1quart-4    0.843620\n",
       "3quart-4    1.552504\n",
       "min-5       6.124001\n",
       "max-5       5.741238\n",
       "mean-5      5.675593\n",
       "median-5    5.813782\n",
       "std-5       1.024898\n",
       "1quart-5    6.096465\n",
       "3quart-5    5.531720\n",
       "min-6       0.045838\n",
       "max-6       2.518921\n",
       "mean-6      1.154812\n",
       "median-6    1.086474\n",
       "std-6       0.517617\n",
       "1quart-6    0.758584\n",
       "3quart-6    1.523599\n",
       "dtype: float64"
      ]
     },
     "execution_count": 5,
     "metadata": {},
     "output_type": "execute_result"
    }
   ],
   "source": [
    "df_numeric = df.iloc[:, 2:] # remove activity and dataset columns\n",
    "df_numeric.std() # standard deviation of each feature (column)"
   ]
  },
  {
   "cell_type": "code",
   "execution_count": 6,
   "id": "b6924097",
   "metadata": {},
   "outputs": [
    {
     "name": "stdout",
     "output_type": "stream",
     "text": [
      "min-1 CI: [8.32080437461135, 10.828538992687845]\n",
      "max-1 CI: [3.465093294793805, 5.41583078124123]\n",
      "mean-1 CI: [4.757474773020469, 5.928429103448349]\n",
      "median-1 CI: [4.853531741509988, 6.0516735476200125]\n",
      "std-1 CI: [1.5882507399826733, 1.9645585197952813]\n",
      "1quart-1 CI: [5.631942034341408, 6.707997213340449]\n",
      "3quart-1 CI: [4.415704713155824, 5.927386338173102]\n",
      "min-2 CI: [0.0, 0.0]\n",
      "max-2 CI: [4.689749824076415, 5.472495421403169]\n",
      "mean-2 CI: [1.4334233242220875, 1.741483047895644]\n",
      "median-2 CI: [1.2725777216081733, 1.580189131315753]\n",
      "std-2 CI: [0.8208418389999846, 0.9596512247595305]\n",
      "1quart-2 CI: [0.8535484107481024, 1.0568049947928282]\n",
      "3quart-2 CI: [1.9444636425634512, 2.3428690704491304]\n",
      "min-3 CI: [2.785602924330212, 3.136936110602181]\n",
      "max-3 CI: [4.2682841444978425, 5.546486584265417]\n",
      "mean-3 CI: [3.49845845630956, 4.562511604439292]\n",
      "median-3 CI: [3.5077294843224314, 4.605339778883589]\n",
      "std-3 CI: [0.7663426658536505, 1.1229180870021145]\n",
      "1quart-3 CI: [3.719243826703896, 4.790569126271538]\n",
      "3quart-3 CI: [3.632319410090399, 4.772840861875778]\n",
      "min-4 CI: [0.0, 0.0]\n",
      "max-4 CI: [1.9945799958936625, 2.3806979948754483]\n",
      "mean-4 CI: [1.1026671432721749, 1.2480943491408398]\n",
      "median-4 CI: [1.0837045129054954, 1.2301163795993562]\n",
      "std-4 CI: [0.42824901548803057, 0.49249887561877037]\n",
      "1quart-4 CI: [0.7923997176350744, 0.9082838374637769]\n",
      "3quart-4 CI: [1.4694445806672667, 1.6660362691222914]\n",
      "min-5 CI: [4.681782813726438, 7.76577070374329]\n",
      "max-5 CI: [4.869603752876706, 6.69412431152271]\n",
      "mean-5 CI: [4.593825091513821, 6.860012239018072]\n",
      "median-5 CI: [4.684675102481187, 7.075215895905009]\n",
      "std-5 CI: [0.8251509799983077, 1.2301864141587109]\n",
      "1quart-5 CI: [4.959181723019959, 7.363438630740713]\n",
      "3quart-5 CI: [4.51719702742271, 6.688903186426572]\n",
      "min-6 CI: [0.013124961748951322, 0.09115393165518614]\n",
      "max-6 CI: [2.2613562084009984, 2.7681217380199867]\n",
      "mean-6 CI: [1.0873361905735879, 1.2406301051775324]\n",
      "median-6 CI: [1.0184744699444976, 1.1702777764355434]\n",
      "std-6 CI: [0.4869372909887285, 0.5537202155582559]\n",
      "1quart-6 CI: [0.7060678446896171, 0.821407406337228]\n",
      "3quart-6 CI: [1.439203147115473, 1.6358707257100868]\n"
     ]
    }
   ],
   "source": [
    "confidence_interval_ranges = []\n",
    "for column in df_numeric:\n",
    "    res = bootstrap((df_numeric[column].values, ), np.std, method='basic', confidence_level=0.9)\n",
    "    confidence_interval_ranges.append((column, res.confidence_interval[1] - res.confidence_interval[0]))\n",
    "    print(column, 'CI: [' + str(res.confidence_interval[0]) + ', ' + str(res.confidence_interval[1]) + ']')"
   ]
  },
  {
   "cell_type": "markdown",
   "id": "cd6ee2d0",
   "metadata": {},
   "source": [
    "# Question (1) (c) (iv)"
   ]
  },
  {
   "cell_type": "code",
   "execution_count": 7,
   "id": "483a9ab4",
   "metadata": {},
   "outputs": [
    {
     "name": "stdout",
     "output_type": "stream",
     "text": [
      "min confidence interval range total: 6.02108466427155\n",
      "max confidence interval range total: 6.729089610788531\n",
      "mean confidence interval range total: 5.107975470208029\n",
      "median confidence interval range total: 5.29211947698749\n",
      "std confidence interval range total: 1.407760805581288\n",
      "1quart confidence interval range total: 4.986117651808476\n",
      "3quart confidence interval range total: 5.615573930741837\n"
     ]
    }
   ],
   "source": [
    "range_totals = [0, 0, 0, 0, 0, 0, 0]\n",
    "for i in confidence_interval_ranges:\n",
    "    if ('min' in i[0]): range_totals[0] += i[1]\n",
    "    if ('max' in i[0]): range_totals[1] += i[1]\n",
    "    if ('mean' in i[0]): range_totals[2] += i[1]\n",
    "    if ('median' in i[0]): range_totals[3] += i[1]\n",
    "    if ('std' in i[0]): range_totals[4] += i[1]\n",
    "    if ('1quart' in i[0]): range_totals[5] += i[1]\n",
    "    if ('3quart' in i[0]): range_totals[6] += i[1]\n",
    "        \n",
    "print('min confidence interval range total:', range_totals[0])\n",
    "print('max confidence interval range total:', range_totals[1])\n",
    "print('mean confidence interval range total:', range_totals[2])\n",
    "print('median confidence interval range total:', range_totals[3])\n",
    "print('std confidence interval range total:', range_totals[4])\n",
    "print('1quart confidence interval range total:', range_totals[5])\n",
    "print('3quart confidence interval range total:', range_totals[6])"
   ]
  },
  {
   "cell_type": "markdown",
   "id": "0f4e11ac",
   "metadata": {},
   "source": [
    "The three most important time-domain features are **mean, standard deviation, and first quartile**. I came to this conclusion by calculating the confidence interval range of each feature for all of the 6 series and choosings the lowest total ranges, giving the time-domain features with the narrowest confidence intervals."
   ]
  },
  {
   "cell_type": "markdown",
   "id": "d5f64824",
   "metadata": {},
   "source": [
    "# Question (2)"
   ]
  },
  {
   "cell_type": "markdown",
   "id": "9250fac5",
   "metadata": {},
   "source": [
    "(a) The extra polynomial term in cubic regression will provide a closer fit to the training data as there are more degrees of freedom. Because of this, I would expect the training RSS for cubic regression to be lower than the training RSS for linear regression."
   ]
  },
  {
   "cell_type": "markdown",
   "id": "e22d0fb5",
   "metadata": {},
   "source": [
    "(b) Using similar reasoning to (a) the extra polynomical term in cubic regression will provide a closer fit to the training data, but also more likely overfit the training data. Given that the true relationship between X and Y is linear, I would expect the test RSS for linear regression to generalize better (and be lower) than the test RSS for cubic regression."
   ]
  },
  {
   "cell_type": "markdown",
   "id": "8ad529dd",
   "metadata": {},
   "source": [
    "(c) The extra polynomial term in cubic regression will provide a closer fit to the training data as there are more degrees of freedom. Even more so than (a), because the true relationship between X and Y is non-linear. I would expect the training RSS for cubic regression to be lower than the training RSS for linear regression."
   ]
  },
  {
   "cell_type": "markdown",
   "id": "1b3c202a",
   "metadata": {},
   "source": [
    "(d) There is not enough information to tell. This is because \"we don't know how far it is from linear\". The test RSS for linear and cubic regression depends on how far from linear the true relationship is. If the true relationship is more linear than cubic, test RSS of linear regression will be lower. If the true relationship is more cubic than linear, test RSS of cubic regression will be lower. We can not say definitively."
   ]
  }
 ],
 "metadata": {
  "kernelspec": {
   "display_name": "Python 3 (ipykernel)",
   "language": "python",
   "name": "python3"
  },
  "language_info": {
   "codemirror_mode": {
    "name": "ipython",
    "version": 3
   },
   "file_extension": ".py",
   "mimetype": "text/x-python",
   "name": "python",
   "nbconvert_exporter": "python",
   "pygments_lexer": "ipython3",
   "version": "3.9.12"
  }
 },
 "nbformat": 4,
 "nbformat_minor": 5
}
